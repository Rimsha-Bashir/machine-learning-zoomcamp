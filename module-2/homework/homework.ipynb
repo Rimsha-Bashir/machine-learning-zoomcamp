{
 "cells": [
  {
   "cell_type": "code",
   "execution_count": 4,
   "id": "9dae4f73-1b39-4fbe-846d-d9233b5db963",
   "metadata": {},
   "outputs": [],
   "source": [
    "import pandas as pd \n",
    "import numpy as np \n",
    "import matplotlib.pyplot as plt \n",
    "import seaborn as sns\n",
    "# to make sure the plots can be displayed in the book - for rendering the figures instead of dumping their 'object'/type\n",
    "%matplotlib inline  \n"
   ]
  },
  {
   "cell_type": "code",
   "execution_count": 2,
   "id": "182ebd82-5659-4355-a702-983e16d5d48e",
   "metadata": {},
   "outputs": [
    {
     "name": "stdout",
     "output_type": "stream",
     "text": [
      "--2025-10-28 13:08:54--  https://raw.githubusercontent.com/alexeygrigorev/datasets/master/car_fuel_efficiency.csv\n",
      "Resolving raw.githubusercontent.com (raw.githubusercontent.com)... 185.199.110.133, 185.199.111.133, 185.199.109.133, ...\n",
      "Connecting to raw.githubusercontent.com (raw.githubusercontent.com)|185.199.110.133|:443... connected.\n",
      "HTTP request sent, awaiting response... 200 OK\n",
      "Length: 874188 (854K) [text/plain]\n",
      "Saving to: ‘car_fuel_efficiency.csv.1’\n",
      "\n",
      "car_fuel_efficiency 100%[===================>] 853.70K  --.-KB/s    in 0.009s  \n",
      "\n",
      "2025-10-28 13:08:54 (89.6 MB/s) - ‘car_fuel_efficiency.csv.1’ saved [874188/874188]\n",
      "\n"
     ]
    }
   ],
   "source": [
    "!wget https://raw.githubusercontent.com/alexeygrigorev/datasets/master/car_fuel_efficiency.csv"
   ]
  },
  {
   "cell_type": "code",
   "execution_count": 5,
   "id": "36a8b298-ad7a-45ea-8365-0ed0944c63c6",
   "metadata": {},
   "outputs": [
    {
     "data": {
      "text/html": [
       "<div>\n",
       "<style scoped>\n",
       "    .dataframe tbody tr th:only-of-type {\n",
       "        vertical-align: middle;\n",
       "    }\n",
       "\n",
       "    .dataframe tbody tr th {\n",
       "        vertical-align: top;\n",
       "    }\n",
       "\n",
       "    .dataframe thead th {\n",
       "        text-align: right;\n",
       "    }\n",
       "</style>\n",
       "<table border=\"1\" class=\"dataframe\">\n",
       "  <thead>\n",
       "    <tr style=\"text-align: right;\">\n",
       "      <th></th>\n",
       "      <th>engine_displacement</th>\n",
       "      <th>num_cylinders</th>\n",
       "      <th>horsepower</th>\n",
       "      <th>vehicle_weight</th>\n",
       "      <th>acceleration</th>\n",
       "      <th>model_year</th>\n",
       "      <th>origin</th>\n",
       "      <th>fuel_type</th>\n",
       "      <th>drivetrain</th>\n",
       "      <th>num_doors</th>\n",
       "      <th>fuel_efficiency_mpg</th>\n",
       "    </tr>\n",
       "  </thead>\n",
       "  <tbody>\n",
       "    <tr>\n",
       "      <th>0</th>\n",
       "      <td>170</td>\n",
       "      <td>3.0</td>\n",
       "      <td>159.0</td>\n",
       "      <td>3413.433759</td>\n",
       "      <td>17.7</td>\n",
       "      <td>2003</td>\n",
       "      <td>Europe</td>\n",
       "      <td>Gasoline</td>\n",
       "      <td>All-wheel drive</td>\n",
       "      <td>0.0</td>\n",
       "      <td>13.231729</td>\n",
       "    </tr>\n",
       "    <tr>\n",
       "      <th>1</th>\n",
       "      <td>130</td>\n",
       "      <td>5.0</td>\n",
       "      <td>97.0</td>\n",
       "      <td>3149.664934</td>\n",
       "      <td>17.8</td>\n",
       "      <td>2007</td>\n",
       "      <td>USA</td>\n",
       "      <td>Gasoline</td>\n",
       "      <td>Front-wheel drive</td>\n",
       "      <td>0.0</td>\n",
       "      <td>13.688217</td>\n",
       "    </tr>\n",
       "    <tr>\n",
       "      <th>2</th>\n",
       "      <td>170</td>\n",
       "      <td>NaN</td>\n",
       "      <td>78.0</td>\n",
       "      <td>3079.038997</td>\n",
       "      <td>15.1</td>\n",
       "      <td>2018</td>\n",
       "      <td>Europe</td>\n",
       "      <td>Gasoline</td>\n",
       "      <td>Front-wheel drive</td>\n",
       "      <td>0.0</td>\n",
       "      <td>14.246341</td>\n",
       "    </tr>\n",
       "    <tr>\n",
       "      <th>3</th>\n",
       "      <td>220</td>\n",
       "      <td>4.0</td>\n",
       "      <td>NaN</td>\n",
       "      <td>2542.392402</td>\n",
       "      <td>20.2</td>\n",
       "      <td>2009</td>\n",
       "      <td>USA</td>\n",
       "      <td>Diesel</td>\n",
       "      <td>All-wheel drive</td>\n",
       "      <td>2.0</td>\n",
       "      <td>16.912736</td>\n",
       "    </tr>\n",
       "    <tr>\n",
       "      <th>4</th>\n",
       "      <td>210</td>\n",
       "      <td>1.0</td>\n",
       "      <td>140.0</td>\n",
       "      <td>3460.870990</td>\n",
       "      <td>14.4</td>\n",
       "      <td>2009</td>\n",
       "      <td>Europe</td>\n",
       "      <td>Gasoline</td>\n",
       "      <td>All-wheel drive</td>\n",
       "      <td>2.0</td>\n",
       "      <td>12.488369</td>\n",
       "    </tr>\n",
       "  </tbody>\n",
       "</table>\n",
       "</div>"
      ],
      "text/plain": [
       "   engine_displacement  num_cylinders  horsepower  vehicle_weight  \\\n",
       "0                  170            3.0       159.0     3413.433759   \n",
       "1                  130            5.0        97.0     3149.664934   \n",
       "2                  170            NaN        78.0     3079.038997   \n",
       "3                  220            4.0         NaN     2542.392402   \n",
       "4                  210            1.0       140.0     3460.870990   \n",
       "\n",
       "   acceleration  model_year  origin fuel_type         drivetrain  num_doors  \\\n",
       "0          17.7        2003  Europe  Gasoline    All-wheel drive        0.0   \n",
       "1          17.8        2007     USA  Gasoline  Front-wheel drive        0.0   \n",
       "2          15.1        2018  Europe  Gasoline  Front-wheel drive        0.0   \n",
       "3          20.2        2009     USA    Diesel    All-wheel drive        2.0   \n",
       "4          14.4        2009  Europe  Gasoline    All-wheel drive        2.0   \n",
       "\n",
       "   fuel_efficiency_mpg  \n",
       "0            13.231729  \n",
       "1            13.688217  \n",
       "2            14.246341  \n",
       "3            16.912736  \n",
       "4            12.488369  "
      ]
     },
     "execution_count": 5,
     "metadata": {},
     "output_type": "execute_result"
    }
   ],
   "source": [
    "df=pd.read_csv('car_fuel_efficiency.csv')\n",
    "df.head()"
   ]
  },
  {
   "cell_type": "code",
   "execution_count": 6,
   "id": "f2c2eea3-ca0c-49b6-9a74-7eaf27a1f4e4",
   "metadata": {},
   "outputs": [
    {
     "data": {
      "text/plain": [
       "(9704, 11)"
      ]
     },
     "execution_count": 6,
     "metadata": {},
     "output_type": "execute_result"
    }
   ],
   "source": [
    "df.shape\n"
   ]
  },
  {
   "cell_type": "code",
   "execution_count": 7,
   "id": "c1ab5e6b-21c5-4264-95b3-6566da2211c8",
   "metadata": {},
   "outputs": [
    {
     "data": {
      "text/plain": [
       "['engine_displacement',\n",
       " 'num_cylinders',\n",
       " 'horsepower',\n",
       " 'vehicle_weight',\n",
       " 'acceleration',\n",
       " 'model_year',\n",
       " 'origin',\n",
       " 'fuel_type',\n",
       " 'drivetrain',\n",
       " 'num_doors',\n",
       " 'fuel_efficiency_mpg']"
      ]
     },
     "execution_count": 7,
     "metadata": {},
     "output_type": "execute_result"
    }
   ],
   "source": [
    "df.tail()\n",
    "list(df.columns)"
   ]
  },
  {
   "cell_type": "code",
   "execution_count": 8,
   "id": "cd704f0a-0844-4faf-b98a-3c4eb0658ba5",
   "metadata": {},
   "outputs": [
    {
     "data": {
      "text/plain": [
       "0       13.232\n",
       "1       13.688\n",
       "2       14.246\n",
       "3       16.913\n",
       "4       12.488\n",
       "         ...  \n",
       "9699    15.102\n",
       "9700    17.962\n",
       "9701    17.187\n",
       "9702    15.332\n",
       "9703    14.884\n",
       "Name: fuel_efficiency_mpg, Length: 9704, dtype: float64"
      ]
     },
     "execution_count": 8,
     "metadata": {},
     "output_type": "execute_result"
    }
   ],
   "source": [
    "df['fuel_efficiency_mpg'].round(3)"
   ]
  },
  {
   "cell_type": "markdown",
   "id": "1511c140-41d9-418e-89a3-09fcaf62d3bc",
   "metadata": {},
   "source": [
    "## Q1"
   ]
  },
  {
   "cell_type": "code",
   "execution_count": 9,
   "id": "07d3eb59-0c2b-4165-acc5-1ee98e92ba6b",
   "metadata": {},
   "outputs": [
    {
     "data": {
      "text/plain": [
       "engine_displacement      0\n",
       "horsepower             708\n",
       "vehicle_weight           0\n",
       "model_year               0\n",
       "dtype: int64"
      ]
     },
     "execution_count": 9,
     "metadata": {},
     "output_type": "execute_result"
    }
   ],
   "source": [
    "df[['engine_displacement','horsepower','vehicle_weight','model_year']].isna().sum()"
   ]
  },
  {
   "cell_type": "markdown",
   "id": "7dc2a1a1-aee3-45e8-aa83-df806b7a032c",
   "metadata": {},
   "source": [
    "## Q2"
   ]
  },
  {
   "cell_type": "code",
   "execution_count": 10,
   "id": "0a3bd712-7761-45ae-9f24-9559b8dec563",
   "metadata": {},
   "outputs": [
    {
     "data": {
      "text/plain": [
       "np.float64(149.0)"
      ]
     },
     "execution_count": 10,
     "metadata": {},
     "output_type": "execute_result"
    }
   ],
   "source": [
    "df['horsepower'].median()"
   ]
  },
  {
   "cell_type": "markdown",
   "id": "b2a8f09a-8492-420b-bfca-5267b308a906",
   "metadata": {},
   "source": [
    "## Q3"
   ]
  },
  {
   "cell_type": "code",
   "execution_count": 11,
   "id": "f4c7ceaa-0d59-49ec-9dd1-5962970d04fa",
   "metadata": {},
   "outputs": [],
   "source": [
    "base = ['engine_displacement', 'horsepower', 'vehicle_weight', 'model_year', 'fuel_efficiency_mpg']"
   ]
  },
  {
   "cell_type": "code",
   "execution_count": 12,
   "id": "35943b74-2b6a-4b1d-93ad-895a19893c52",
   "metadata": {},
   "outputs": [],
   "source": [
    "df_new = df[base]"
   ]
  },
  {
   "cell_type": "code",
   "execution_count": 13,
   "id": "9aaffa4d-340a-4386-8b09-24acb2dbaa60",
   "metadata": {},
   "outputs": [
    {
     "data": {
      "text/plain": [
       "((5824, 5), (1940, 5), (1940, 5))"
      ]
     },
     "execution_count": 13,
     "metadata": {},
     "output_type": "execute_result"
    }
   ],
   "source": [
    "n = len(df_new)\n",
    "n_val = n_test = int(n*0.2)\n",
    "n_train = n - (n_val + n_test)\n",
    "\n",
    "df_train = df_new.iloc[0:n-(n_test+n_val)]\n",
    "df_val = df_new.iloc[n_train:n_train+n_val]\n",
    "df_test = df_new.iloc[n_train+n_val:]\n",
    "\n",
    "df_train.shape, df_test.shape, df_val.shape"
   ]
  },
  {
   "cell_type": "code",
   "execution_count": 14,
   "id": "6bc82075-1f74-4f6f-8888-34455f892fdb",
   "metadata": {},
   "outputs": [],
   "source": [
    "idx = np.arange(n)\n",
    "np.random.seed(42) \n",
    "np.random.shuffle(idx)"
   ]
  },
  {
   "cell_type": "code",
   "execution_count": 15,
   "id": "771183cd-d2d8-4fcb-b165-0b3e03e7daa5",
   "metadata": {},
   "outputs": [],
   "source": [
    "df_train = df_new.iloc[idx[:n_train]]\n",
    "df_val = df_new.iloc[idx[n_train:n_train+n_val]]\n",
    "df_test = df_new.iloc[idx[n_train+n_val:]]"
   ]
  },
  {
   "cell_type": "code",
   "execution_count": 16,
   "id": "218e99f2-94b6-4e58-8a3d-4325b1656846",
   "metadata": {},
   "outputs": [],
   "source": [
    "df_train = df_train.reset_index(drop=True)\n",
    "df_val = df_val.reset_index(drop=True)\n",
    "df_test = df_test.reset_index(drop=True)"
   ]
  },
  {
   "cell_type": "code",
   "execution_count": 17,
   "id": "837e63da-d14d-47d5-a6df-2af8af9fd659",
   "metadata": {},
   "outputs": [],
   "source": [
    "y_train=np.log1p(df_train.fuel_efficiency_mpg.values)\n",
    "y_test=np.log1p(df_test.fuel_efficiency_mpg.values)\n",
    "y_val=np.log1p(df_val.fuel_efficiency_mpg.values)"
   ]
  },
  {
   "cell_type": "code",
   "execution_count": 18,
   "id": "ff73bbfd-9196-475d-bbf4-d1f691d9dc33",
   "metadata": {},
   "outputs": [],
   "source": [
    "# TRAIN 1 - NULLS REPLACED WITH MEAN \n",
    "# TRAIN 2 - NULLS REPLACED WITH 0\n",
    "\n",
    "# Train1: fill NaNs with mean\n",
    "df_train1 = df_train.copy()\n",
    "df_val1   = df_val.copy()\n",
    "df_test1  = df_test.copy()\n",
    "\n",
    "# Train2: fill NaNs with 0\n",
    "df_train2 = df_train.copy()\n",
    "df_val2   = df_val.copy()\n",
    "df_test2  = df_test.copy()\n"
   ]
  },
  {
   "cell_type": "code",
   "execution_count": 19,
   "id": "874494e1-e37e-4b98-b16e-23e8a4183538",
   "metadata": {},
   "outputs": [],
   "source": [
    "#fill NaNs using training mean\n",
    "mean_hp = df_train1['horsepower'].mean()\n",
    "df_train1['horsepower'] = df_train1['horsepower'].fillna(mean_hp)\n",
    "df_val1['horsepower']   = df_val1['horsepower'].fillna(mean_hp)\n",
    "df_test1['horsepower']  = df_test1['horsepower'].fillna(mean_hp)\n",
    "\n",
    "# fill NaNs with 0\n",
    "df_train2['horsepower'] = df_train2['horsepower'].fillna(0)\n",
    "df_val2['horsepower']   = df_val2['horsepower'].fillna(0)\n",
    "df_test2['horsepower']  = df_test2['horsepower'].fillna(0)"
   ]
  },
  {
   "cell_type": "code",
   "execution_count": 20,
   "id": "226b54fa-a244-47e4-be52-0ec5379fc127",
   "metadata": {},
   "outputs": [],
   "source": [
    "# Remove target column from feature sets\n",
    "\n",
    "target = 'fuel_efficiency_mpg'\n",
    "features = ['engine_displacement', 'horsepower', 'vehicle_weight', 'model_year']\n",
    "\n",
    "df_train1 = df_train1.drop(columns=[target])\n",
    "df_val1   = df_val1.drop(columns=[target])\n",
    "df_test1  = df_test1.drop(columns=[target])\n",
    "\n",
    "df_train2 = df_train2.drop(columns=[target])\n",
    "df_val2   = df_val2.drop(columns=[target])\n",
    "df_test2  = df_test2.drop(columns=[target])"
   ]
  },
  {
   "cell_type": "code",
   "execution_count": 21,
   "id": "9eed5b94-55b0-4618-9254-c7ebc79294ba",
   "metadata": {},
   "outputs": [],
   "source": [
    "# Prepare Feature Matrices\n",
    "\n",
    "X_train1 = df_train1[features].values\n",
    "X_val1   = df_val1[features].values\n",
    "X_test1  = df_test1[features].values\n",
    "\n",
    "X_train2 = df_train2[features].values\n",
    "X_val2   = df_val2[features].values\n",
    "X_test2  = df_test2[features].values\n",
    "\n"
   ]
  },
  {
   "cell_type": "code",
   "execution_count": 22,
   "id": "f358e12f-a698-4602-957a-5c095c20f0c6",
   "metadata": {},
   "outputs": [],
   "source": [
    "# applying model on 'mean' dataset - df_train1\n",
    "\n",
    "# function to train\n",
    "def train_linear_regression(X,y):\n",
    "    ones = np.ones(X.shape[0])\n",
    "    X = np.column_stack([ones,X])\n",
    "    XTX = X.T.dot(X)\n",
    "    XTX_inv = np.linalg.inv(XTX)\n",
    "    w_full = XTX_inv.dot(X.T).dot(y)\n",
    "    \n",
    "    return w_full[0], w_full[1:]\n",
    "\n",
    "# Function to predict\n",
    "def predict(X, w0, w):\n",
    "    return w0 + X.dot(w)\n",
    "\n",
    "# Function to calculate RMSE\n",
    "def rmse(y_true, y_pred):\n",
    "    se = (y_true - y_pred) ** 2\n",
    "    mse = se.mean()\n",
    "    return np.sqrt(mse)"
   ]
  },
  {
   "cell_type": "code",
   "execution_count": 23,
   "id": "48f9c62e-8c26-4cb3-bc16-15d90f33ead9",
   "metadata": {},
   "outputs": [
    {
     "name": "stdout",
     "output_type": "stream",
     "text": [
      "Validation RMSE (Train1 - mean imputation): 0.037327717015389235\n"
     ]
    }
   ],
   "source": [
    "# Train model on Train1 dataset (mean imputation)\n",
    "\n",
    "w0, w = train_linear_regression(X_train1, y_train)\n",
    "\n",
    "\n",
    "# Predict on validation\n",
    "y_val_pred = predict(X_val1, w0, w)\n",
    "val_rmse = rmse(y_val, y_val_pred)\n",
    "print(\"Validation RMSE (Train1 - mean imputation):\", val_rmse)\n"
   ]
  },
  {
   "cell_type": "code",
   "execution_count": 24,
   "id": "5be6458f-3644-402a-b5f1-ca8b1257ef52",
   "metadata": {},
   "outputs": [
    {
     "name": "stdout",
     "output_type": "stream",
     "text": [
      "Validation RMSE (Train2 - zero imputation): 0.039979257825777034\n"
     ]
    }
   ],
   "source": [
    "# Train2 - Zero imputation\n",
    "w0_2, w2 = train_linear_regression(X_train2, y_train)\n",
    "\n",
    "\n",
    "y_val_pred2 = predict(X_val2, w0_2, w2)\n",
    "val_rmse2 = rmse(y_val, y_val_pred2)\n",
    "print(\"Validation RMSE (Train2 - zero imputation):\", val_rmse2)\n"
   ]
  },
  {
   "cell_type": "markdown",
   "id": "ae0fdf25-a7ab-4313-9233-8e55d917993e",
   "metadata": {},
   "source": [
    "#### Answer - RMSE IS LESSER IN MEAN IMPUTATION CASE "
   ]
  },
  {
   "cell_type": "markdown",
   "id": "44575d41-1673-4746-a109-13983e2a9b7c",
   "metadata": {},
   "source": [
    "## Q4"
   ]
  },
  {
   "cell_type": "markdown",
   "id": "c139752e-047a-4363-8cba-ea1e64b0db34",
   "metadata": {},
   "source": [
    "##### we're using train2, test2, and val2 for this - req imputation with 0 \n"
   ]
  },
  {
   "cell_type": "code",
   "execution_count": 65,
   "id": "eeae712b-b018-42d1-8477-34d0d368acb6",
   "metadata": {},
   "outputs": [
    {
     "name": "stdout",
     "output_type": "stream",
     "text": [
      "0  -  3.664666247383519  -  0.04\n",
      "0.01  -  3.168813446992993  -  0.04\n",
      "0.1  -  1.4288369989813987  -  0.04\n",
      "1  -  0.22012861947491938  -  0.04\n",
      "5  -  0.04624885656830112  -  0.04\n",
      "10  -  0.023271722731612262  -  0.04\n",
      "100  -  0.0023413689852454602  -  0.04\n"
     ]
    }
   ],
   "source": [
    "def train_linear_regression_reg(X,y, r=0.001):\n",
    "    ones = np.ones(X.shape[0])\n",
    "    X = np.column_stack([ones,X])\n",
    "    XTX = X.T.dot(X)\n",
    "    \n",
    "    XTX = XTX + r * np.eye(XTX.shape[0])\n",
    "    \n",
    "    XTX_inv = np.linalg.inv(XTX)\n",
    "    w_full = XTX_inv.dot(X.T).dot(y)\n",
    "    \n",
    "    return w_full[0], w_full[1:]\n",
    "\n",
    "\n",
    "for r in [0, 0.01, 0.1, 1, 5, 10, 100]:\n",
    "    w0,w=train_linear_regression_reg(X_train2,y_train,r=r)\n",
    "    y_pred = w0 + X_val2.dot(w)\n",
    "    \n",
    "    final_rmse=rmse(y_val,y_pred).round(2)\n",
    "    print(f'{r}  -  {w0}  -  {final_rmse}')"
   ]
  },
  {
   "cell_type": "markdown",
   "id": "5fea39f0-a808-45b4-ae9b-aa257155c4a4",
   "metadata": {},
   "source": [
    "## Q5"
   ]
  },
  {
   "cell_type": "code",
   "execution_count": 35,
   "id": "42d635bb-19db-4f9d-b28c-c7cba043a258",
   "metadata": {},
   "outputs": [
    {
     "name": "stdout",
     "output_type": "stream",
     "text": [
      "Validation RMSE for seed 0: 0.03801775537080148\n",
      "Validation RMSE for seed 1: 0.03927885333921255\n",
      "Validation RMSE for seed 2: 0.03944653052537959\n",
      "Validation RMSE for seed 3: 0.038727637037731855\n",
      "Validation RMSE for seed 4: 0.03727535850054727\n",
      "Validation RMSE for seed 5: 0.03938438834004637\n",
      "Validation RMSE for seed 6: 0.03890763931360936\n",
      "Validation RMSE for seed 7: 0.03837971626977783\n",
      "Validation RMSE for seed 8: 0.04018986975230982\n",
      "Validation RMSE for seed 9: 0.03860764644229973\n",
      "Standard deviation of all RMSEs: 0.001\n"
     ]
    }
   ],
   "source": [
    "score = []\n",
    "def q5(r=0):\n",
    "    idx = np.arange(n)\n",
    "    np.random.seed(r) \n",
    "    np.random.shuffle(idx)\n",
    "    df_train = df_new.iloc[idx[:n_train]]\n",
    "    df_val = df_new.iloc[idx[n_train:n_train+n_val]]\n",
    "    df_test = df_new.iloc[idx[n_train+n_val:]]\n",
    "    \n",
    "    df_train = df_train.reset_index(drop=True)\n",
    "    df_val = df_val.reset_index(drop=True)\n",
    "    df_test = df_test.reset_index(drop=True)\n",
    "\n",
    "    y_train=np.log1p(df_train.fuel_efficiency_mpg.values)\n",
    "    y_test=np.log1p(df_test.fuel_efficiency_mpg.values)\n",
    "    y_val=np.log1p(df_val.fuel_efficiency_mpg.values)\n",
    "\n",
    "    df_train['horsepower'] = df_train['horsepower'].fillna(0)\n",
    "    df_val['horsepower']   = df_val['horsepower'].fillna(0)\n",
    "    df_test['horsepower']  = df_test['horsepower'].fillna(0)\n",
    "\n",
    "    X_train = df_train[features].values\n",
    "    X_val   = df_val[features].values\n",
    "    X_test  = df_test[features].values\n",
    "\n",
    "    w0, w = train_linear_regression(X_train, y_train)\n",
    "    y_val_pred = predict(X_val, w0, w)\n",
    "    val_rmse = rmse(y_val, y_val_pred)\n",
    "    score.append(val_rmse)\n",
    "    print(f\"Validation RMSE for seed {r}: {val_rmse}\")\n",
    "\n",
    "\n",
    "for r in [0, 1, 2, 3, 4, 5, 6, 7, 8, 9]:\n",
    "    q5(r)\n",
    "\n",
    "std_rmse = np.std(score).round(3)\n",
    "print(\"Standard deviation of all RMSEs:\", std_rmse)\n"
   ]
  },
  {
   "cell_type": "markdown",
   "id": "afe9c9c2-0536-414f-a25b-de65898f5a98",
   "metadata": {},
   "source": [
    "## Q6"
   ]
  },
  {
   "cell_type": "code",
   "execution_count": 63,
   "id": "104bd1ac-0515-4249-86c9-3154834b29fd",
   "metadata": {},
   "outputs": [],
   "source": [
    "def q5(r=0):\n",
    "    idx = np.arange(n)\n",
    "    np.random.seed(r) \n",
    "    np.random.shuffle(idx)\n",
    "    df_train = df_new.iloc[idx[:n_train]]\n",
    "    df_val = df_new.iloc[idx[n_train:n_train+n_val]]\n",
    "\n",
    "    df_full = pd.concat([df_train,df_val])\n",
    "          \n",
    "    y_full= np.concatenate([y_train,y_val])\n",
    "    \n",
    "    df_full = df_full.reset_index(drop=True)\n",
    "\n",
    "    df_full['horsepower'] = df_full['horsepower'].fillna(0)\n",
    "    \n",
    "    X_full = df_full[features].values\n",
    "\n",
    "\n",
    "    w0, w = train_linear_regression_reg(X_full, y_full, r=0.001)\n",
    "\n",
    "    #print(w0,w)\n",
    "\n",
    "    X_test = df_test[features].fillna(0).values\n",
    "\n",
    "    #print(X_test)\n",
    "    \n",
    "    y_test_pred = predict(X_test, w0, w)\n",
    "\n",
    "    print(rmse(y_test, y_test_pred))\n"
   ]
  },
  {
   "cell_type": "code",
   "execution_count": 64,
   "id": "256c3e87-a46f-4848-b8b4-a24943538f42",
   "metadata": {},
   "outputs": [
    {
     "name": "stdout",
     "output_type": "stream",
     "text": [
      "0.1562925322262958\n"
     ]
    }
   ],
   "source": [
    "q5(9)"
   ]
  },
  {
   "cell_type": "code",
   "execution_count": null,
   "id": "66cbac86-2a71-4c58-a73c-5364c4661e17",
   "metadata": {},
   "outputs": [],
   "source": []
  }
 ],
 "metadata": {
  "kernelspec": {
   "display_name": "Python 3 (ipykernel)",
   "language": "python",
   "name": "python3"
  },
  "language_info": {
   "codemirror_mode": {
    "name": "ipython",
    "version": 3
   },
   "file_extension": ".py",
   "mimetype": "text/x-python",
   "name": "python",
   "nbconvert_exporter": "python",
   "pygments_lexer": "ipython3",
   "version": "3.12.1"
  }
 },
 "nbformat": 4,
 "nbformat_minor": 5
}
