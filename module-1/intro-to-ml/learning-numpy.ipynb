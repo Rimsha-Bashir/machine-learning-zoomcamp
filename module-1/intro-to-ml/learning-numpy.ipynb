{
 "cells": [
  {
   "cell_type": "code",
   "execution_count": 3,
   "id": "d67ef810-6a63-43c3-8f35-f28c8a60e586",
   "metadata": {},
   "outputs": [],
   "source": [
    "import numpy as np"
   ]
  },
  {
   "cell_type": "markdown",
   "id": "596c68cb-f2b4-4bd5-8568-548448916615",
   "metadata": {},
   "source": [
    "## Creating Arrays"
   ]
  },
  {
   "cell_type": "code",
   "execution_count": 4,
   "id": "b3942587-d062-4d29-b7c7-7971f5a2f783",
   "metadata": {},
   "outputs": [
    {
     "data": {
      "text/plain": [
       "array([1., 1., 1., 1.])"
      ]
     },
     "execution_count": 4,
     "metadata": {},
     "output_type": "execute_result"
    }
   ],
   "source": [
    "np.ones(4)"
   ]
  },
  {
   "cell_type": "code",
   "execution_count": 7,
   "id": "10c27da6-3e61-4e8a-8823-d204101c66ca",
   "metadata": {},
   "outputs": [
    {
     "data": {
      "text/plain": [
       "array([0., 0., 0., 0., 0., 0., 0., 0., 0., 0.])"
      ]
     },
     "execution_count": 7,
     "metadata": {},
     "output_type": "execute_result"
    }
   ],
   "source": [
    "np.zeros(10)"
   ]
  },
  {
   "cell_type": "code",
   "execution_count": 8,
   "id": "e678a884-c560-4568-9cb2-4756a717796f",
   "metadata": {},
   "outputs": [
    {
     "data": {
      "text/plain": [
       "array([8.99, 8.99, 8.99, 8.99, 8.99])"
      ]
     },
     "execution_count": 8,
     "metadata": {},
     "output_type": "execute_result"
    }
   ],
   "source": [
    "np.full(5,8.99)\n"
   ]
  },
  {
   "cell_type": "code",
   "execution_count": 12,
   "id": "04a4fe2a-c0cf-4496-9ac6-ddadc3099ed7",
   "metadata": {},
   "outputs": [
    {
     "data": {
      "text/plain": [
       "array([1, 2, 3, 4, 5, 6])"
      ]
     },
     "execution_count": 12,
     "metadata": {},
     "output_type": "execute_result"
    }
   ],
   "source": [
    "pylist = [1,2,3,4,5,6]\n",
    "a=np.array(pylist)\n",
    "a #python list to array"
   ]
  },
  {
   "cell_type": "code",
   "execution_count": 13,
   "id": "c48dee68-d4ee-462c-b9f5-329209a92362",
   "metadata": {},
   "outputs": [
    {
     "data": {
      "text/plain": [
       "np.int64(6)"
      ]
     },
     "execution_count": 13,
     "metadata": {},
     "output_type": "execute_result"
    }
   ],
   "source": [
    "#now to access a number from the array \n",
    "a[5]"
   ]
  },
  {
   "cell_type": "code",
   "execution_count": 65,
   "id": "658a8d82-a621-438c-9ab3-8bf7d7f73239",
   "metadata": {},
   "outputs": [
    {
     "data": {
      "text/plain": [
       "array([ 0,  1,  2,  3,  4,  5,  6,  7,  8,  9, 10, 11])"
      ]
     },
     "execution_count": 65,
     "metadata": {},
     "output_type": "execute_result"
    }
   ],
   "source": [
    "np.arange(12, 20) #excludes end number \n",
    "np.arange(12)"
   ]
  },
  {
   "cell_type": "code",
   "execution_count": 26,
   "id": "c6c0bfb4-7495-472f-996e-86c03599eb8e",
   "metadata": {},
   "outputs": [
    {
     "data": {
      "text/plain": [
       "array([ 0.  ,  5.75, 11.5 , 17.25, 23.  ])"
      ]
     },
     "execution_count": 26,
     "metadata": {},
     "output_type": "execute_result"
    }
   ],
   "source": [
    "np.linspace(0,23,5) #inclusive of both start and end. "
   ]
  },
  {
   "cell_type": "markdown",
   "id": "d5af08e7-bd54-4cf1-82c8-e0e4eab44a55",
   "metadata": {},
   "source": [
    "## Multi-dimensional Arrays"
   ]
  },
  {
   "cell_type": "code",
   "execution_count": 28,
   "id": "cd99d079-950d-4ce7-b6a6-a7e7432e9728",
   "metadata": {},
   "outputs": [
    {
     "data": {
      "text/plain": [
       "array([[0., 0.],\n",
       "       [0., 0.],\n",
       "       [0., 0.],\n",
       "       [0., 0.],\n",
       "       [0., 0.],\n",
       "       [0., 0.],\n",
       "       [0., 0.],\n",
       "       [0., 0.],\n",
       "       [0., 0.],\n",
       "       [0., 0.]])"
      ]
     },
     "execution_count": 28,
     "metadata": {},
     "output_type": "execute_result"
    }
   ],
   "source": [
    "# most of the same functions as above, but with 2 instead of 1 parameter, (depicted by a set) e.g. \n",
    "\n",
    "np.zeros((10,2))"
   ]
  },
  {
   "cell_type": "code",
   "execution_count": 31,
   "id": "6f517f9b-5703-4598-8faf-66666ce17225",
   "metadata": {},
   "outputs": [
    {
     "data": {
      "text/plain": [
       "array([[1, 2, 3],\n",
       "       [4, 5, 6]])"
      ]
     },
     "execution_count": 31,
     "metadata": {},
     "output_type": "execute_result"
    }
   ],
   "source": [
    "n=np.array([\n",
    "    [1,2,3],\n",
    "    [4,5,6]\n",
    "]) #generates a 2D matrix\n",
    "\n",
    "n"
   ]
  },
  {
   "cell_type": "code",
   "execution_count": 36,
   "id": "51c50055-cfd3-49e3-a66e-f8c4a8398eaa",
   "metadata": {},
   "outputs": [
    {
     "data": {
      "text/plain": [
       "np.int64(5)"
      ]
     },
     "execution_count": 36,
     "metadata": {},
     "output_type": "execute_result"
    }
   ],
   "source": [
    "n[1][1]\n",
    "\n",
    "# or you can also do the below\n",
    "\n",
    "n[1,1]"
   ]
  },
  {
   "cell_type": "code",
   "execution_count": 37,
   "id": "ae9cf867-f91e-4f98-9a08-8ded0859e4e1",
   "metadata": {},
   "outputs": [
    {
     "data": {
      "text/plain": [
       "array([[ 1,  2,  3],\n",
       "       [99,  5,  6]])"
      ]
     },
     "execution_count": 37,
     "metadata": {},
     "output_type": "execute_result"
    }
   ],
   "source": [
    "n[1,0]=99\n",
    "n"
   ]
  },
  {
   "cell_type": "code",
   "execution_count": 40,
   "id": "4317907c-c18e-4d33-b190-e2e68d200c52",
   "metadata": {},
   "outputs": [
    {
     "data": {
      "text/plain": [
       "array([[1, 2, 3],\n",
       "       [0, 0, 0]])"
      ]
     },
     "execution_count": 40,
     "metadata": {},
     "output_type": "execute_result"
    }
   ],
   "source": [
    "n[1] = [0,0,0]\n",
    "n                #to access and update individual rows"
   ]
  },
  {
   "cell_type": "code",
   "execution_count": 46,
   "id": "3db81a06-f7b3-4762-965a-51f49c795c89",
   "metadata": {},
   "outputs": [
    {
     "data": {
      "text/plain": [
       "array([3, 0])"
      ]
     },
     "execution_count": 46,
     "metadata": {},
     "output_type": "execute_result"
    }
   ],
   "source": [
    "n[:, 2]         #to access individual columns"
   ]
  },
  {
   "cell_type": "code",
   "execution_count": 48,
   "id": "73151641-84d1-43f3-b85a-829e2beafc86",
   "metadata": {},
   "outputs": [
    {
     "data": {
      "text/plain": [
       "array([[1, 2, 3],\n",
       "       [0, 0, 0]])"
      ]
     },
     "execution_count": 48,
     "metadata": {},
     "output_type": "execute_result"
    }
   ],
   "source": [
    "# n == n[:] will yield the same result"
   ]
  },
  {
   "cell_type": "markdown",
   "id": "601bb3c5-a491-4363-9c06-b024f26b3e23",
   "metadata": {},
   "source": [
    "## Randomly Generated Arrays"
   ]
  },
  {
   "cell_type": "code",
   "execution_count": 56,
   "id": "eece0bd6-c1e8-4fbc-b78d-d7ecd6649ad3",
   "metadata": {},
   "outputs": [
    {
     "data": {
      "text/plain": [
       "array([[0.8734294 , 0.96854066],\n",
       "       [0.86919454, 0.53085569]])"
      ]
     },
     "execution_count": 56,
     "metadata": {},
     "output_type": "execute_result"
    }
   ],
   "source": [
    "# to generate random arrays we use np.random, e.g. \n",
    "\n",
    "np.random.rand(4,4) # where param 1 = no. of rows\n",
    "                     # param 2 = no. of columns\n",
    "\n",
    "# to retain the numbers, and generate fixed vales each time, set seed like below:\n",
    "\n",
    "np.random.seed(8)\n",
    "np.random.rand(2,2)"
   ]
  },
  {
   "cell_type": "code",
   "execution_count": 60,
   "id": "95910e4e-a2c2-4c51-bebb-f18c6c949e27",
   "metadata": {},
   "outputs": [
    {
     "data": {
      "text/plain": [
       "array([1, 7, 6, 4, 4])"
      ]
     },
     "execution_count": 60,
     "metadata": {},
     "output_type": "execute_result"
    }
   ],
   "source": [
    "# new way to use random - rng = np.random.default_rng(seed=42)\n",
    "\n",
    "rng=np.random.default_rng(seed=42)\n",
    "rng.integers(1, 10, 5)"
   ]
  },
  {
   "cell_type": "code",
   "execution_count": 61,
   "id": "a94fc9ad-6342-4d41-b7e1-fac27c959c89",
   "metadata": {},
   "outputs": [
    {
     "data": {
      "text/plain": [
       "array([[-1.94697031, -1.38634953],\n",
       "       [-2.29649157,  2.4098343 ]])"
      ]
     },
     "execution_count": 61,
     "metadata": {},
     "output_type": "execute_result"
    }
   ],
   "source": [
    "# if you want a list/array/matrix of negative numbers use randn \n",
    "\n",
    "np.random.randn(2,2)"
   ]
  },
  {
   "cell_type": "code",
   "execution_count": 62,
   "id": "adef9a60-d62a-475a-8915-67928169cf89",
   "metadata": {},
   "outputs": [
    {
     "data": {
      "text/plain": [
       "array([[19, 71],\n",
       "       [25, 69],\n",
       "       [28, 24],\n",
       "       [66, 19],\n",
       "       [61, 78]])"
      ]
     },
     "execution_count": 62,
     "metadata": {},
     "output_type": "execute_result"
    }
   ],
   "source": [
    "# random integers but within a set start and end \n",
    "\n",
    "np.random.randint(low=10, high=100, size=(5,2))"
   ]
  },
  {
   "cell_type": "markdown",
   "id": "e7d8e7bf-38fb-4159-ad57-bd983c06c142",
   "metadata": {},
   "source": [
    "## Element Wise Operators"
   ]
  },
  {
   "cell_type": "code",
   "execution_count": 64,
   "id": "c0d87bb0-5da6-4014-976b-ed877bb0facc",
   "metadata": {},
   "outputs": [
    {
     "data": {
      "text/plain": [
       "array([0, 1, 2, 3, 4, 5, 6, 7, 8, 9])"
      ]
     },
     "execution_count": 64,
     "metadata": {},
     "output_type": "execute_result"
    }
   ],
   "source": [
    "a=np.arange(10)\n",
    "a"
   ]
  },
  {
   "cell_type": "code",
   "execution_count": 73,
   "id": "48ef00d5-4494-4d3f-b64f-cc19b13240bc",
   "metadata": {},
   "outputs": [
    {
     "data": {
      "text/plain": [
       "array([ 1,  2,  3,  4,  5,  6,  7,  8,  9, 10])"
      ]
     },
     "execution_count": 73,
     "metadata": {},
     "output_type": "execute_result"
    }
   ],
   "source": [
    "#to add/sub/multiply/divide you can just do the below:\n",
    "\n",
    "a + 1"
   ]
  },
  {
   "cell_type": "code",
   "execution_count": 67,
   "id": "cfb19775-c96c-46e6-bf7c-1279f6e8cad0",
   "metadata": {},
   "outputs": [
    {
     "data": {
      "text/plain": [
       "array([-3, -2, -1,  0,  1,  2,  3,  4,  5,  6])"
      ]
     },
     "execution_count": 67,
     "metadata": {},
     "output_type": "execute_result"
    }
   ],
   "source": [
    "a - 3"
   ]
  },
  {
   "cell_type": "code",
   "execution_count": 76,
   "id": "c7586e6b-93f7-40a4-b859-02d3e1f6bb08",
   "metadata": {},
   "outputs": [
    {
     "data": {
      "text/plain": [
       "array([ 7.84, 10.24, 12.96, 16.  , 19.36, 23.04, 27.04, 31.36, 36.  ,\n",
       "       40.96])"
      ]
     },
     "execution_count": 76,
     "metadata": {},
     "output_type": "execute_result"
    }
   ],
   "source": [
    "b=((a + 7)*4/10)**2 \n",
    "b"
   ]
  },
  {
   "cell_type": "code",
   "execution_count": 75,
   "id": "0e1c5c10-efc5-46fc-bc84-e39656721ca5",
   "metadata": {},
   "outputs": [],
   "source": [
    "#the need for loops here is eliminated"
   ]
  },
  {
   "cell_type": "code",
   "execution_count": 77,
   "id": "3ebd8e08-98b3-47d1-bcf3-ab9f56c1f52a",
   "metadata": {},
   "outputs": [
    {
     "data": {
      "text/plain": [
       "array([ 7.84, 11.24, 14.96, 19.  , 23.36, 28.04, 33.04, 38.36, 44.  ,\n",
       "       49.96])"
      ]
     },
     "execution_count": 77,
     "metadata": {},
     "output_type": "execute_result"
    }
   ],
   "source": [
    "a+b"
   ]
  },
  {
   "cell_type": "markdown",
   "id": "70d62734-596b-4322-a887-b5fd1eda07f8",
   "metadata": {},
   "source": [
    "## Comparison Operations"
   ]
  },
  {
   "cell_type": "code",
   "execution_count": 81,
   "id": "76d00ba6-ab95-477e-95b0-e8ff3d3ccd6d",
   "metadata": {},
   "outputs": [
    {
     "name": "stdout",
     "output_type": "stream",
     "text": [
      "[0 1 2 3 4 5 6 7 8 9]\n"
     ]
    },
    {
     "data": {
      "text/plain": [
       "array([False, False, False, False, False,  True,  True,  True,  True,\n",
       "        True])"
      ]
     },
     "execution_count": 81,
     "metadata": {},
     "output_type": "execute_result"
    }
   ],
   "source": [
    "print(a)\n",
    "a>4"
   ]
  },
  {
   "cell_type": "code",
   "execution_count": 82,
   "id": "17311069-16a0-4675-a2b9-1162189e8364",
   "metadata": {},
   "outputs": [
    {
     "data": {
      "text/plain": [
       "array([False, False, False, False, False, False, False, False, False,\n",
       "       False])"
      ]
     },
     "execution_count": 82,
     "metadata": {},
     "output_type": "execute_result"
    }
   ],
   "source": [
    "a == b/10"
   ]
  },
  {
   "cell_type": "code",
   "execution_count": 83,
   "id": "0ad2a42e-16c3-4226-906b-473416e7a9b5",
   "metadata": {},
   "outputs": [
    {
     "data": {
      "text/plain": [
       "array([False, False, False,  True, False, False, False, False, False,\n",
       "       False])"
      ]
     },
     "execution_count": 83,
     "metadata": {},
     "output_type": "execute_result"
    }
   ],
   "source": [
    "a == 3"
   ]
  },
  {
   "cell_type": "code",
   "execution_count": 84,
   "id": "4524d2f2-ac23-4c9b-b725-a115a86b0042",
   "metadata": {},
   "outputs": [
    {
     "data": {
      "text/plain": [
       "array([ True,  True,  True,  True,  True,  True,  True,  True,  True,\n",
       "        True])"
      ]
     },
     "execution_count": 84,
     "metadata": {},
     "output_type": "execute_result"
    }
   ],
   "source": [
    "a-a == b-b"
   ]
  },
  {
   "cell_type": "code",
   "execution_count": 89,
   "id": "55e2ada0-df3f-4071-bbc9-54e74a9b600e",
   "metadata": {},
   "outputs": [
    {
     "data": {
      "text/plain": [
       "array([0, 1, 2, 3, 4, 5, 6, 7, 8, 9])"
      ]
     },
     "execution_count": 89,
     "metadata": {},
     "output_type": "execute_result"
    }
   ],
   "source": [
    "a[a>b-100]"
   ]
  },
  {
   "cell_type": "markdown",
   "id": "0486925c-f600-41f4-8786-7427f0eabce5",
   "metadata": {},
   "source": [
    "## Converting Numpy Array to Dataframe and vice versa"
   ]
  },
  {
   "cell_type": "code",
   "execution_count": 112,
   "id": "cdbea273-8a0f-4264-a003-9df4f80a4635",
   "metadata": {},
   "outputs": [
    {
     "data": {
      "text/html": [
       "<div>\n",
       "<style scoped>\n",
       "    .dataframe tbody tr th:only-of-type {\n",
       "        vertical-align: middle;\n",
       "    }\n",
       "\n",
       "    .dataframe tbody tr th {\n",
       "        vertical-align: top;\n",
       "    }\n",
       "\n",
       "    .dataframe thead th {\n",
       "        text-align: right;\n",
       "    }\n",
       "</style>\n",
       "<table border=\"1\" class=\"dataframe\">\n",
       "  <thead>\n",
       "    <tr style=\"text-align: right;\">\n",
       "      <th></th>\n",
       "      <th>col1</th>\n",
       "      <th>col2</th>\n",
       "      <th>col3</th>\n",
       "    </tr>\n",
       "  </thead>\n",
       "  <tbody>\n",
       "    <tr>\n",
       "      <th>0</th>\n",
       "      <td>1</td>\n",
       "      <td>2</td>\n",
       "      <td>3</td>\n",
       "    </tr>\n",
       "    <tr>\n",
       "      <th>1</th>\n",
       "      <td>4</td>\n",
       "      <td>5</td>\n",
       "      <td>6</td>\n",
       "    </tr>\n",
       "    <tr>\n",
       "      <th>2</th>\n",
       "      <td>7</td>\n",
       "      <td>8</td>\n",
       "      <td>9</td>\n",
       "    </tr>\n",
       "  </tbody>\n",
       "</table>\n",
       "</div>"
      ],
      "text/plain": [
       "   col1  col2  col3\n",
       "0     1     2     3\n",
       "1     4     5     6\n",
       "2     7     8     9"
      ]
     },
     "execution_count": 112,
     "metadata": {},
     "output_type": "execute_result"
    }
   ],
   "source": [
    "import pandas as pd \n",
    "\n",
    "n=np.array([\n",
    "    [1,2,3],\n",
    "    [4,5,6],\n",
    "    [7,8,9]\n",
    "])\n",
    "df=pd.DataFrame(n, columns=[\"col1\", \"col2\", \"col3\"])\n",
    "df"
   ]
  },
  {
   "cell_type": "code",
   "execution_count": 94,
   "id": "a9867f8c-51eb-443c-b97c-2e364b8187fe",
   "metadata": {},
   "outputs": [
    {
     "data": {
      "text/plain": [
       "array([[1, 2, 3],\n",
       "       [4, 5, 6],\n",
       "       [7, 8, 9]])"
      ]
     },
     "execution_count": 94,
     "metadata": {},
     "output_type": "execute_result"
    }
   ],
   "source": [
    "n_arr=df.to_numpy()\n",
    "n_arr"
   ]
  },
  {
   "cell_type": "markdown",
   "id": "40131937-6070-49a0-8704-9616e0194090",
   "metadata": {},
   "source": [
    "## Summarizing Operations "
   ]
  },
  {
   "cell_type": "code",
   "execution_count": 99,
   "id": "9bc0f302-2a25-4320-8650-9f7a446bb156",
   "metadata": {},
   "outputs": [
    {
     "data": {
      "text/plain": [
       "array([0, 1, 2, 3, 4, 5, 6, 7, 8, 9])"
      ]
     },
     "execution_count": 99,
     "metadata": {},
     "output_type": "execute_result"
    }
   ],
   "source": [
    "a"
   ]
  },
  {
   "cell_type": "code",
   "execution_count": 101,
   "id": "eaf2dac0-b3ee-401a-a35b-94ab62a98d2b",
   "metadata": {},
   "outputs": [
    {
     "name": "stdout",
     "output_type": "stream",
     "text": [
      "0\n",
      "9\n",
      "45\n",
      "4.5\n",
      "2.8722813232690143\n"
     ]
    }
   ],
   "source": [
    "print(a.min())\n",
    "print(a.max())\n",
    "print(a.sum())\n",
    "print(a.mean())\n",
    "print(a.std())"
   ]
  },
  {
   "cell_type": "code",
   "execution_count": 102,
   "id": "bfe12750-f9f2-4307-8a8f-c4a457ec11ec",
   "metadata": {},
   "outputs": [
    {
     "data": {
      "text/plain": [
       "np.float64(2.8723)"
      ]
     },
     "execution_count": 102,
     "metadata": {},
     "output_type": "execute_result"
    }
   ],
   "source": [
    "# to round off the standard deviation you can use np.round()\n",
    "\n",
    "np.round(a.std(),4)"
   ]
  },
  {
   "cell_type": "code",
   "execution_count": 114,
   "id": "a7264e4b-b31a-4020-af02-91867d0037f4",
   "metadata": {},
   "outputs": [
    {
     "data": {
      "text/plain": [
       "array([[1, 2, 3],\n",
       "       [4, 5, 6],\n",
       "       [7, 8, 9]])"
      ]
     },
     "execution_count": 114,
     "metadata": {},
     "output_type": "execute_result"
    }
   ],
   "source": [
    "n[:]"
   ]
  },
  {
   "cell_type": "code",
   "execution_count": 118,
   "id": "4723f1a3-998d-41e2-b159-e08913202b53",
   "metadata": {},
   "outputs": [],
   "source": [
    "new_n=n[:2, 1:].copy()"
   ]
  },
  {
   "cell_type": "code",
   "execution_count": 119,
   "id": "4813d287-3d0b-49b8-9241-4ec3c1eb37d5",
   "metadata": {},
   "outputs": [
    {
     "name": "stdout",
     "output_type": "stream",
     "text": [
      "2\n",
      "6\n",
      "16\n",
      "4.0\n",
      "1.5811388300841898\n"
     ]
    }
   ],
   "source": [
    "print(new_n.min())\n",
    "print(new_n.max())\n",
    "print(new_n.sum())\n",
    "print(new_n.mean())\n",
    "print(new_n.std())"
   ]
  },
  {
   "cell_type": "code",
   "execution_count": null,
   "id": "5801d460-92ce-4c0d-bddc-3ebec44aa1c4",
   "metadata": {},
   "outputs": [],
   "source": []
  }
 ],
 "metadata": {
  "kernelspec": {
   "display_name": "Python 3 (ipykernel)",
   "language": "python",
   "name": "python3"
  },
  "language_info": {
   "codemirror_mode": {
    "name": "ipython",
    "version": 3
   },
   "file_extension": ".py",
   "mimetype": "text/x-python",
   "name": "python",
   "nbconvert_exporter": "python",
   "pygments_lexer": "ipython3",
   "version": "3.12.1"
  }
 },
 "nbformat": 4,
 "nbformat_minor": 5
}
